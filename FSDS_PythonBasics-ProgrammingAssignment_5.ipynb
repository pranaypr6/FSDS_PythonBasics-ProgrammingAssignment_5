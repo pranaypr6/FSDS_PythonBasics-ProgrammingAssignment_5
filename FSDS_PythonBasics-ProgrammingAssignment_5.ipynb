{
 "cells": [
  {
   "cell_type": "code",
   "execution_count": 9,
   "metadata": {},
   "outputs": [
    {
     "name": "stdout",
     "output_type": "stream",
     "text": [
      "336\n",
      "54\n",
      "LCM of 336 and 54 is 3024\n"
     ]
    }
   ],
   "source": [
    "# 1. Write a Python Program to Find LCM?\n",
    "\n",
    "n1 = int(input())\n",
    "n2 = int(input())\n",
    "\n",
    "t = n2\n",
    "\n",
    "while t%n1 != 0 or t%n2 != 0:\n",
    "    t+=1\n",
    "    \n",
    "print(f'LCM of {n1} and {n2} is {t}')"
   ]
  },
  {
   "cell_type": "code",
   "execution_count": 10,
   "metadata": {},
   "outputs": [
    {
     "name": "stdout",
     "output_type": "stream",
     "text": [
      "50\n",
      "24\n",
      "HCF of 50 and 24 is 2\n"
     ]
    }
   ],
   "source": [
    "# 2. Write a Python Program to Find HCF?\n",
    "\n",
    "n1 = int(input())\n",
    "n2 = int(input())\n",
    "\n",
    "t = n1\n",
    "\n",
    "while n1%t != 0 or n2%t !=0 :\n",
    "    t-=1\n",
    "    \n",
    "print(f'HCF of {n1} and {n2} is {t}')"
   ]
  },
  {
   "cell_type": "code",
   "execution_count": 30,
   "metadata": {},
   "outputs": [
    {
     "name": "stdout",
     "output_type": "stream",
     "text": [
      "Enter\n",
      " 1. for decimal to binary \n",
      " 2. for Octal to hexa decimal\n",
      "2\n",
      "Enter the value : \n",
      "300\n",
      "c0\n"
     ]
    }
   ],
   "source": [
    "# 3. Write a Python Program to Convert Decimal to Binary, Octal and Hexadecimal?\n",
    "\n",
    "def decToBin(n):\n",
    "    n = int(n)\n",
    "    print(bin(n).replace(\"0b\",\"\"))\n",
    "    \n",
    "def octToDec(n):\n",
    "    inDec = int(n,8)\n",
    "    print(hex(inDec).replace(\"0x\",\"\"))\n",
    "\n",
    "op = int(input(\"Enter\\n 1. for decimal to binary \\n 2. for Octal to hexa decimal\\n\"))\n",
    "n = input(\"Enter the value : \\n\")\n",
    "if op == 1:\n",
    "    decToBin(n)\n",
    "else:\n",
    "    octToDec(n)\n",
    "\n",
    "    \n"
   ]
  },
  {
   "cell_type": "code",
   "execution_count": 35,
   "metadata": {},
   "outputs": [
    {
     "name": "stdout",
     "output_type": "stream",
     "text": [
      "P\n",
      "80\n"
     ]
    }
   ],
   "source": [
    "# 4. Write a Python Program To Find ASCII value of a character?\n",
    "\n",
    "c = input()\n",
    "print(ord(c))"
   ]
  },
  {
   "cell_type": "code",
   "execution_count": 45,
   "metadata": {},
   "outputs": [
    {
     "name": "stdout",
     "output_type": "stream",
     "text": [
      "Enter the operation \n",
      " add \n",
      " sub \n",
      " mul \n",
      " div\n",
      "mul\n",
      "Enter the count of digits you want to mul :4\n",
      "Enter the value :2\n",
      "Enter the value :3\n",
      "Enter the value :4\n",
      "Enter the value :5\n",
      "120\n"
     ]
    }
   ],
   "source": [
    "# 5. Write a Python Program to Make a Simple Calculator with 4 basic mathematical operations?\n",
    "import functools\n",
    "\n",
    "lst = []\n",
    "\n",
    "def add(lst):\n",
    "    return sum(lst)\n",
    "\n",
    "def sub(lst):\n",
    "    return functools.reduce(lambda x,y : x+y,lst)\n",
    "\n",
    "def mul(lst):\n",
    "    return functools.reduce(lambda x,y : x*y,lst)\n",
    "\n",
    "def div(lst):\n",
    "    return functools.reduce(lambda x,y : x/y,lst)\n",
    "\n",
    "operation = input(\"Enter the operation \\n add \\n sub \\n mul \\n div\\n\")\n",
    "n = int(input(f\"Enter the count of digits you want to {operation} :\"))\n",
    "for i in range(n):\n",
    "    lst.append(int(input(\"Enter the value :\")))\n",
    "if operation == \"add\":\n",
    "    print(add(lst))\n",
    "elif operation == \"sub\":\n",
    "    print(sub(lst))\n",
    "elif operation == \"mul\":\n",
    "    print(mul(lst))\n",
    "else:\n",
    "    print(div(lst))\n",
    "\n",
    "    "
   ]
  }
 ],
 "metadata": {
  "kernelspec": {
   "display_name": "Python 3",
   "language": "python",
   "name": "python3"
  },
  "language_info": {
   "codemirror_mode": {
    "name": "ipython",
    "version": 3
   },
   "file_extension": ".py",
   "mimetype": "text/x-python",
   "name": "python",
   "nbconvert_exporter": "python",
   "pygments_lexer": "ipython3",
   "version": "3.8.5"
  }
 },
 "nbformat": 4,
 "nbformat_minor": 4
}
